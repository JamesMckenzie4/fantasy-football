{
 "cells": [
  {
   "cell_type": "code",
   "execution_count": 10,
   "metadata": {},
   "outputs": [],
   "source": [
    "import glob\n",
    "import os\n",
    "import pandas as pd\n",
    "import plotly.plotly as py"
   ]
  },
  {
   "cell_type": "code",
   "execution_count": 11,
   "metadata": {},
   "outputs": [],
   "source": [
    "# Look at match odds markets for this week and sort by shortest odds\n",
    "\n",
    "match_odds_csv = glob.glob('../../data/odds-data/*winner.csv')"
   ]
  },
  {
   "cell_type": "code",
   "execution_count": 15,
   "metadata": {},
   "outputs": [
    {
     "name": "stdout",
     "output_type": "stream",
     "text": [
      "../../data/odds-data\\Arsenal_Man_City_winner.csv\n"
     ]
    }
   ],
   "source": [
    "print(match_odds_csv[0])"
   ]
  },
  {
   "cell_type": "code",
   "execution_count": 13,
   "metadata": {},
   "outputs": [],
   "source": [
    "df = pd.read_csv(match_odds_csv[0])"
   ]
  },
  {
   "cell_type": "code",
   "execution_count": 14,
   "metadata": {},
   "outputs": [
    {
     "data": {
      "text/html": [
       "<div>\n",
       "<style scoped>\n",
       "    .dataframe tbody tr th:only-of-type {\n",
       "        vertical-align: middle;\n",
       "    }\n",
       "\n",
       "    .dataframe tbody tr th {\n",
       "        vertical-align: top;\n",
       "    }\n",
       "\n",
       "    .dataframe thead th {\n",
       "        text-align: right;\n",
       "    }\n",
       "</style>\n",
       "<table border=\"1\" class=\"dataframe\">\n",
       "  <thead>\n",
       "    <tr style=\"text-align: right;\">\n",
       "      <th></th>\n",
       "      <th>Selection</th>\n",
       "      <th>Bet 365</th>\n",
       "      <th>Sky Bet</th>\n",
       "      <th>Ladbrokes</th>\n",
       "      <th>William Hill</th>\n",
       "      <th>Marathon Bet</th>\n",
       "      <th>Betfair Sportsbook</th>\n",
       "      <th>Paddy Power</th>\n",
       "      <th>Unibet</th>\n",
       "      <th>Coral</th>\n",
       "      <th>...</th>\n",
       "      <th>188Bet</th>\n",
       "      <th>888sport</th>\n",
       "      <th>Bet Victor</th>\n",
       "      <th>Sportpesa</th>\n",
       "      <th>Spreadex</th>\n",
       "      <th>Royal Panda</th>\n",
       "      <th>Betfair</th>\n",
       "      <th>Betdaq</th>\n",
       "      <th>Matchbook</th>\n",
       "      <th>Smarkets</th>\n",
       "    </tr>\n",
       "  </thead>\n",
       "  <tbody>\n",
       "    <tr>\n",
       "      <th>0</th>\n",
       "      <td>Man City</td>\n",
       "      <td>2.0</td>\n",
       "      <td>2.0</td>\n",
       "      <td>2.0</td>\n",
       "      <td>1.95</td>\n",
       "      <td>2.06</td>\n",
       "      <td>2.05</td>\n",
       "      <td>1.91</td>\n",
       "      <td>2.0</td>\n",
       "      <td>2.0</td>\n",
       "      <td>...</td>\n",
       "      <td>2.04</td>\n",
       "      <td>2.0</td>\n",
       "      <td>2.1</td>\n",
       "      <td>2.05</td>\n",
       "      <td>2.00</td>\n",
       "      <td>2.02</td>\n",
       "      <td>2.01</td>\n",
       "      <td>2.04</td>\n",
       "      <td>2.03</td>\n",
       "      <td>2.04</td>\n",
       "    </tr>\n",
       "    <tr>\n",
       "      <th>1</th>\n",
       "      <td>Arsenal</td>\n",
       "      <td>3.5</td>\n",
       "      <td>3.4</td>\n",
       "      <td>3.4</td>\n",
       "      <td>3.50</td>\n",
       "      <td>3.62</td>\n",
       "      <td>3.40</td>\n",
       "      <td>3.30</td>\n",
       "      <td>3.6</td>\n",
       "      <td>3.4</td>\n",
       "      <td>...</td>\n",
       "      <td>3.50</td>\n",
       "      <td>3.6</td>\n",
       "      <td>3.5</td>\n",
       "      <td>3.60</td>\n",
       "      <td>3.50</td>\n",
       "      <td>3.45</td>\n",
       "      <td>3.66</td>\n",
       "      <td>3.60</td>\n",
       "      <td>3.56</td>\n",
       "      <td>3.74</td>\n",
       "    </tr>\n",
       "    <tr>\n",
       "      <th>2</th>\n",
       "      <td>Draw</td>\n",
       "      <td>3.6</td>\n",
       "      <td>3.8</td>\n",
       "      <td>3.7</td>\n",
       "      <td>3.80</td>\n",
       "      <td>3.94</td>\n",
       "      <td>3.80</td>\n",
       "      <td>3.60</td>\n",
       "      <td>3.8</td>\n",
       "      <td>3.6</td>\n",
       "      <td>...</td>\n",
       "      <td>3.75</td>\n",
       "      <td>3.8</td>\n",
       "      <td>3.8</td>\n",
       "      <td>3.70</td>\n",
       "      <td>3.75</td>\n",
       "      <td>3.61</td>\n",
       "      <td>3.76</td>\n",
       "      <td>3.84</td>\n",
       "      <td>3.81</td>\n",
       "      <td>3.84</td>\n",
       "    </tr>\n",
       "  </tbody>\n",
       "</table>\n",
       "<p>3 rows × 28 columns</p>\n",
       "</div>"
      ],
      "text/plain": [
       "  Selection  Bet 365  Sky Bet  Ladbrokes  William Hill  Marathon Bet  \\\n",
       "0  Man City      2.0      2.0        2.0          1.95          2.06   \n",
       "1   Arsenal      3.5      3.4        3.4          3.50          3.62   \n",
       "2      Draw      3.6      3.8        3.7          3.80          3.94   \n",
       "\n",
       "   Betfair Sportsbook  Paddy Power  Unibet  Coral    ...     188Bet  888sport  \\\n",
       "0                2.05         1.91     2.0    2.0    ...       2.04       2.0   \n",
       "1                3.40         3.30     3.6    3.4    ...       3.50       3.6   \n",
       "2                3.80         3.60     3.8    3.6    ...       3.75       3.8   \n",
       "\n",
       "   Bet Victor  Sportpesa  Spreadex  Royal Panda  Betfair  Betdaq  Matchbook  \\\n",
       "0         2.1       2.05      2.00         2.02     2.01    2.04       2.03   \n",
       "1         3.5       3.60      3.50         3.45     3.66    3.60       3.56   \n",
       "2         3.8       3.70      3.75         3.61     3.76    3.84       3.81   \n",
       "\n",
       "   Smarkets  \n",
       "0      2.04  \n",
       "1      3.74  \n",
       "2      3.84  \n",
       "\n",
       "[3 rows x 28 columns]"
      ]
     },
     "execution_count": 14,
     "metadata": {},
     "output_type": "execute_result"
    }
   ],
   "source": [
    "df.head()"
   ]
  },
  {
   "cell_type": "code",
   "execution_count": null,
   "metadata": {},
   "outputs": [],
   "source": []
  }
 ],
 "metadata": {
  "kernelspec": {
   "display_name": "Python 3",
   "language": "python",
   "name": "python3"
  },
  "language_info": {
   "codemirror_mode": {
    "name": "ipython",
    "version": 3
   },
   "file_extension": ".py",
   "mimetype": "text/x-python",
   "name": "python",
   "nbconvert_exporter": "python",
   "pygments_lexer": "ipython3",
   "version": "3.6.5"
  }
 },
 "nbformat": 4,
 "nbformat_minor": 2
}
