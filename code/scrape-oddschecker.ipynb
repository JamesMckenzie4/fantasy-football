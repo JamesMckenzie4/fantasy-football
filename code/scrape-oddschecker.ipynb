{
 "cells": [
  {
   "cell_type": "code",
   "execution_count": 11,
   "metadata": {},
   "outputs": [],
   "source": [
    "from bs4 import BeautifulSoup\n",
    "import requests\n",
    "import re\n",
    "import time"
   ]
  },
  {
   "cell_type": "code",
   "execution_count": 31,
   "metadata": {},
   "outputs": [],
   "source": [
    "def get_team_name(match):\n",
    "    \"\"\"Return the team names for the match in the order home_team, away_team\"\"\"\n",
    "    teams = match.find_all('td', {'class': 'all-odds-click'})\n",
    "    p_tags = teams[1].find_all('p')\n",
    "    team_names = []\n",
    "    for p_tag in p_tags:\n",
    "        team_names.append(str(p_tag).split('beta-footnote\">')[1].split('<')[0].replace(\" \", \"_\"))\n",
    "    return team_names[0], team_names[1]\n",
    "\n",
    "def get_odds_data(odds_table, is_over_under):\n",
    "    \"\"\"Return a dictionary mapping the selection (home_team, draw, away_team) to a list of bookmakers odds\"\"\"\n",
    "    selection_odds_map = {}\n",
    "    if is_over_under:\n",
    "        odds_table_rows = odds_table.find_all('tr', {'class': \"diff-row handicap-participant evTabRow bc\"})\n",
    "    else:\n",
    "        odds_table_rows = odds_table.find_all('tr', {'class': 'diff-row evTabRow bc'})\n",
    "    for odds_table_row in odds_table_rows:\n",
    "        team_name = odds_table_row['data-bname']\n",
    "        decimal_odds = []\n",
    "        for td in odds_table_row.find_all('td'):\n",
    "            try:\n",
    "                decimal_odds.append(td['data-odig'])\n",
    "            except KeyError:\n",
    "                continue\n",
    "        selection_odds_map[team_name] = decimal_odds\n",
    "    return selection_odds_map\n",
    "\n",
    "def get_bookmakers(odds_table):\n",
    "    bookmakers = []\n",
    "    table_headers = odds_table.find('tr', {'class': 'eventTableHeader'})\n",
    "    for td in table_headers.find_all('td'):\n",
    "        try:\n",
    "            bookmakers.append(td.a['title'])\n",
    "        except KeyError:\n",
    "            continue\n",
    "        except TypeError:\n",
    "            continue\n",
    "    return bookmakers"
   ]
  },
  {
   "cell_type": "code",
   "execution_count": 33,
   "metadata": {},
   "outputs": [],
   "source": [
    "base_url = 'https://www.oddschecker.com'\n",
    "matches_url = '/football/english/premier-league'\n",
    "\n",
    "full_markets_list = ['winner', 'first-goalscorer', 'both-teams-to-score', 'correct-score', 'half-time-full-time', \n",
    "                     'anytime-goalscorer', 'draw-no-bet', 'total-goals-over-under', 'total-goals-exact', 'asian-handicap',\n",
    "                     'halftime', 'handicaps', 'last-goalscorer', 'match-result-and-both-teams-to-score', 'half-time-score',\n",
    "                     'winning-margin', 'double-chance', 'team-to-score-first', 'to-win-to-nil', 'highest-scoring-half']\n",
    "# For now just get the following market data\n",
    "market_list = ['total-goals-over-under']\n",
    "\n",
    "# Get the page, make the soup\n",
    "page = requests.get(base_url + matches_url)\n",
    "soup = BeautifulSoup(page.content, 'lxml')\n",
    "\n",
    "# Iterate over all markets and all matches - populate csv files for each\n",
    "matches = soup.find(\"table\", {\"class\": \"at-hda standard-list\"}).find_all('tr', {'class': 'match-on '})\n",
    "for market in market_list:\n",
    "    # Need different table class name for over_under markets\n",
    "    is_over_under = (market == 'total-goals-over-under')\n",
    "    for match in matches:\n",
    "        # Get team names\n",
    "        team_1, team_2 = get_team_name(match)\n",
    "        with open('../data/{}_{}_{}.csv'.format(team_1, team_2, market), 'w') as write_file:\n",
    "            # Get odds \n",
    "            href = match.find_all('td', {'class': 'betting link-right'})[0].a['href']\n",
    "            href = '/'.join(href.split('/')[:-1])\n",
    "            # Get odds html - wait 5 seconds to avoid a IP ban from oddschecker\n",
    "            time.sleep(5)\n",
    "            odds_page = requests.get('{}{}/{}'.format(base_url, href, market))\n",
    "            odds_soup = BeautifulSoup(odds_page.content, 'lxml')\n",
    "            # Get the main odds table\n",
    "            odds_table = odds_soup.find('table', {'class': 'eventTable '})\n",
    "            # Get the bookmakers names list        \n",
    "            bookmakers = get_bookmakers(odds_table)\n",
    "            # Get the odds dict\n",
    "            selection_to_odds_map = get_odds_data(odds_table, is_over_under)\n",
    "            write_file.write('Selection,{}\\n'.format(','.join(bookmakers)))\n",
    "            for selection, odds_data in selection_to_odds_map.items():\n",
    "                write_file.write('{},{}\\n'.format(selection, ','.join(odds_data)))"
   ]
  },
  {
   "cell_type": "code",
   "execution_count": null,
   "metadata": {},
   "outputs": [],
   "source": []
  }
 ],
 "metadata": {
  "kernelspec": {
   "display_name": "Python 3",
   "language": "python",
   "name": "python3"
  },
  "language_info": {
   "codemirror_mode": {
    "name": "ipython",
    "version": 3
   },
   "file_extension": ".py",
   "mimetype": "text/x-python",
   "name": "python",
   "nbconvert_exporter": "python",
   "pygments_lexer": "ipython3",
   "version": "3.6.5"
  }
 },
 "nbformat": 4,
 "nbformat_minor": 2
}
